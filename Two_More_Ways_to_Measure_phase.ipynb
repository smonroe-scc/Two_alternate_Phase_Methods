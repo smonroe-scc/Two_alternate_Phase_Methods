{
 "cells": [
  {
   "cell_type": "code",
   "execution_count": 1,
   "metadata": {},
   "outputs": [
    {
     "name": "stdout",
     "output_type": "stream",
     "text": [
      "Author        : sm626967\n",
      "Python        : 3.7.4 \n",
      "NumPy         : 1.18.1\n",
      "Encoding      : utf-8\n",
      "Timestamp     : 1592958009.2285998\n"
     ]
    }
   ],
   "source": [
    "%run py_templates/1_Boilerplate_numeric.py"
   ]
  },
  {
   "cell_type": "markdown",
   "metadata": {},
   "source": [
    "## Alternatives for measuring phase"
   ]
  },
  {
   "cell_type": "markdown",
   "metadata": {},
   "source": [
    "In addition to using an oscilloscope that gives us the ability to set a reference waveform and measure phase directly, there are two other much older (and apparently nearly forgotten - neither of these are taught in our textbook) methods. The first one uses a shape called a \"Lissajous Pattern\" and the other takes advantage of the law of cosines using three voltmeters.  Let's talk about the Lissajous method first.  For our purposes, I will be using a Tektronix scope and the cursor system built-in to that scope.  "
   ]
  },
  {
   "cell_type": "markdown",
   "metadata": {},
   "source": [
    "### Lissajous Method"
   ]
  },
  {
   "cell_type": "markdown",
   "metadata": {},
   "source": [
    "Named after Jules Antoine Lissajous, a Lissajous curve also known as Lissajous figure or Bowditch curve is the graph of a system of parametric equations,\n",
    "$$x=A \\cdot sin(a \\cdot t +\\delta)$$<br>\n",
    "$$y=B \\cdot sin(b \\cdot t)$$<br>\n",
    "These two equation describe complex harmonic motion. \n",
    "You can see further information on Lissajou Pattern <a href=\"https://mathworld.wolfram.com/LissajousCurve.html\">here</a> "
   ]
  },
  {
   "cell_type": "markdown",
   "metadata": {},
   "source": [
    "We are going to use this to measure the phase difference between two signals. For this exercise, I will show a common use of the XY display mode for measuring the phase difference between two signals\n",
    "of the same frequency with the Lissajous method.  First thing:\n",
    "<br><br>\n",
    "Multisim Scope: XY display mode is achieved by pressing the B/A button on the two channel scope.  There is no XY display mode for the Multisim 4-channel scope. <br>\n",
    "Agilent Scope: XY display mode is achieved by pressing the AUTOSCALE key, then press MAIN/DELAYED, then press the XY softkey<br>\n",
    "Tektronix Scope: Display > Format > XY"
   ]
  },
  {
   "cell_type": "markdown",
   "metadata": {},
   "source": [
    "Here is the setup: I have a 1kHz signal generator, operating at $1V_{p-p}$"
   ]
  },
  {
   "cell_type": "markdown",
   "metadata": {},
   "source": [
    "There is a 47mH Inductor (Ideal Inductor for now) connected to a $10 \\Omega$ Resistor."
   ]
  },
  {
   "cell_type": "markdown",
   "metadata": {},
   "source": [
    "We will connect channel 1 (X) to the generator, and channel 2 (Y) to the resistor.  The schematic looks like this:"
   ]
  },
  {
   "cell_type": "markdown",
   "metadata": {},
   "source": [
    "![](./Phase_setup.JPG)"
   ]
  },
  {
   "cell_type": "markdown",
   "metadata": {},
   "source": [
    "For this circuit the Lissajous pattern looks like this:"
   ]
  },
  {
   "cell_type": "markdown",
   "metadata": {},
   "source": [
    "![](./Phase_liss_01.JPG)"
   ]
  },
  {
   "cell_type": "markdown",
   "metadata": {},
   "source": [
    "Now what does this mean?  If the two signals have the same frequency, then the Lissajous figure will assume the shape of an ellipse.The ellipse’s shape will vary according to the the phase difference between the two signals, and according to  the  ratio  of  the  amplitudes  of  the  two  signals.\n",
    "Here ar some common Lissajous figures:"
   ]
  },
  {
   "cell_type": "markdown",
   "metadata": {},
   "source": [
    "![](./Lissajous_figures.JPG)"
   ]
  },
  {
   "cell_type": "markdown",
   "metadata": {},
   "source": [
    "Each of these represent something different:<br><br>\n",
    "A) Same frequency, zero phase shift<br>\n",
    "B) Same frequency, approximately $45^\\circ$ phase shift.<br>\n",
    "C) Same frequency, approximately $90^\\circ$ phase shift.<br>\n",
    "D) Same frequency, approximately $135^\\circ$ phase shift.<br>\n",
    "E) Same frequency, $180^\\circ$ phase shift.<br>\n",
    "F) Same frequency, $-45^\\circ$ phase shift.<br>"
   ]
  },
  {
   "cell_type": "markdown",
   "metadata": {},
   "source": [
    " Now you notice that the phase shift for (B) and (F) look the same.  You have to know a little bit about your circuit before you use this technique."
   ]
  },
  {
   "cell_type": "markdown",
   "metadata": {},
   "source": [
    "Now how do we measure this?  Let's look:"
   ]
  },
  {
   "cell_type": "markdown",
   "metadata": {},
   "source": [
    "![](./Lissajous_measurement.JPG)"
   ]
  },
  {
   "cell_type": "markdown",
   "metadata": {},
   "source": [
    "I am going to use C and D.  C is the distance between the two places that intersect the Y-axis:"
   ]
  },
  {
   "cell_type": "markdown",
   "metadata": {},
   "source": [
    "![](./Lissajous_C_measurement.JPG)"
   ]
  },
  {
   "cell_type": "markdown",
   "metadata": {},
   "source": [
    "I don't really care about the sign of the delta between the two just it's magnitude.\n",
    "In this case C=320mV.  Now measure D.  It is the difference across the whole shape.  See above.\n",
    "D=666mV  See the measurement of D below:"
   ]
  },
  {
   "cell_type": "markdown",
   "metadata": {},
   "source": [
    "![](./Lissajous_D_measurement.JPG)"
   ]
  },
  {
   "cell_type": "code",
   "execution_count": 2,
   "metadata": {},
   "outputs": [
    {
     "name": "stdout",
     "output_type": "stream",
     "text": [
      "28.71678765218366\n"
     ]
    }
   ],
   "source": [
    "C=320.0E-3\n",
    "D=666.0E-3\n",
    "angle=asind(C/D)\n",
    "print(angle)"
   ]
  },
  {
   "cell_type": "markdown",
   "metadata": {},
   "source": [
    "Since this angle is facing up and to the right, we have to subtract this angle off of $90^\\circ$."
   ]
  },
  {
   "cell_type": "code",
   "execution_count": 3,
   "metadata": {},
   "outputs": [
    {
     "name": "stdout",
     "output_type": "stream",
     "text": [
      "Corrected angle: 61.283212347816345 Degrees\n"
     ]
    }
   ],
   "source": [
    "Corrected_Angle=90.0-angle\n",
    "print(\"Corrected angle:\",Corrected_Angle,\"Degrees\")"
   ]
  },
  {
   "cell_type": "markdown",
   "metadata": {},
   "source": [
    "How does this comport with our calculation?  Let's do one it:"
   ]
  },
  {
   "cell_type": "code",
   "execution_count": 4,
   "metadata": {},
   "outputs": [
    {
     "name": "stdout",
     "output_type": "stream",
     "text": [
      "Impedance: (31.17816936383943, 71.29248409393148) ohms\n"
     ]
    }
   ],
   "source": [
    "Egen=1.0+0j\n",
    "p=float(pi)\n",
    "f=1000.0\n",
    "L=4.70E-3\n",
    "xl=(2*p*f*L)*1j\n",
    "r=10.0+0j\n",
    "zt=r+xl\n",
    "#it=Egen/zt\n",
    "#vl=it*xl\n",
    "#vr=it*r\n",
    "#vl_=R2P(vl)\n",
    "#vr_=R2P(vr)\n",
    "zt_=R2P(zt)\n",
    "#it_=R2P(it)\n",
    "print(\"Impedance:\",zt_,\"ohms\")"
   ]
  },
  {
   "cell_type": "markdown",
   "metadata": {},
   "source": [
    "So our Lissajous measurement is about 10 degrees off. Given that the technique depends upon centering and getting the cursor exactly on the point(s) of interest, that isn't surprising. "
   ]
  },
  {
   "cell_type": "code",
   "execution_count": 5,
   "metadata": {},
   "outputs": [
    {
     "name": "stdout",
     "output_type": "stream",
     "text": [
      "14.039729255228933 %\n"
     ]
    }
   ],
   "source": [
    "Calc=71.29248409393148\n",
    "Meas=61.283212347816345\n",
    "err=((Calc-Meas)/Calc)*100.0\n",
    "print(err,\"%\")"
   ]
  },
  {
   "cell_type": "code",
   "execution_count": 6,
   "metadata": {},
   "outputs": [
    {
     "name": "stdout",
     "output_type": "stream",
     "text": [
      "Corrected angle: 61.283212347816345 Degrees\n"
     ]
    }
   ],
   "source": [
    "# Remeasure with D=690mV and C=304mV we get:\n",
    "C=304.0E-3\n",
    "D=690.0E-3\n",
    "angle=asind(C/D)\n",
    "print(\"Corrected angle:\",Corrected_Angle,\"Degrees\")"
   ]
  },
  {
   "cell_type": "code",
   "execution_count": 7,
   "metadata": {},
   "outputs": [
    {
     "name": "stdout",
     "output_type": "stream",
     "text": [
      "12.879158303301855 %\n"
     ]
    }
   ],
   "source": [
    "Calc=71.29248409393148\n",
    "Meas=62.11061220911775\n",
    "err=((Calc-Meas)/Calc)*100.0\n",
    "print(err,\"%\")"
   ]
  },
  {
   "cell_type": "markdown",
   "metadata": {},
   "source": [
    "As you can see the technique has a margin of error around 10% - 15% ... but it works reasonably well."
   ]
  },
  {
   "cell_type": "markdown",
   "metadata": {},
   "source": [
    "The direct phase measurement using probes is providing the number ~62 degrees as well, so the Lissajous value makes sense."
   ]
  },
  {
   "cell_type": "markdown",
   "metadata": {},
   "source": [
    "### Three Meter Method"
   ]
  },
  {
   "cell_type": "markdown",
   "metadata": {},
   "source": [
    "The three meter method take advantage of the fact that the law of cosines says,<br><br>\n",
    "$$c^2=a^2+b^2-2ab\\cdot cos(\\gamma)$$"
   ]
  },
  {
   "cell_type": "markdown",
   "metadata": {},
   "source": [
    "solving for $cos(\\gamma)$ ...<br><br>\n",
    "$$cos(\\gamma)=\\frac{a^2+b^2-c^2}{2ab}$$"
   ]
  },
  {
   "cell_type": "markdown",
   "metadata": {},
   "source": [
    "meaning that,"
   ]
  },
  {
   "cell_type": "markdown",
   "metadata": {},
   "source": [
    "$$\\gamma=cos^-1\\left( \\frac{a^2+b^2-c^2}{2ab}\\right)$$"
   ]
  },
  {
   "cell_type": "markdown",
   "metadata": {},
   "source": [
    "You can think of this as a triangle of vectors. Let's label our circuit:"
   ]
  },
  {
   "cell_type": "markdown",
   "metadata": {},
   "source": [
    "![](./Three_Meter_Method_Diagram_1.JPG)"
   ]
  },
  {
   "cell_type": "markdown",
   "metadata": {},
   "source": [
    "We have $V_{AB}$ ... $V_{AC}$ ... and $V_{BC}$"
   ]
  },
  {
   "cell_type": "markdown",
   "metadata": {},
   "source": [
    "Given the law of cosines above we had sides a, b, and c."
   ]
  },
  {
   "cell_type": "markdown",
   "metadata": {},
   "source": [
    "Set side c to $V_{AB}$<br>\n",
    "Set side b to $V_{BC}$<br>\n",
    "Set side a to $V_{AC}$<br>\n",
    "We have done this so that we can solve for the angle between $V_{AC}$ and $V_{BC}$"
   ]
  },
  {
   "cell_type": "markdown",
   "metadata": {},
   "source": [
    "Now connect up the meters:"
   ]
  },
  {
   "cell_type": "markdown",
   "metadata": {},
   "source": [
    "![](./Three_Meter_Method_Diagram_2.JPG)"
   ]
  },
  {
   "cell_type": "code",
   "execution_count": 8,
   "metadata": {},
   "outputs": [
    {
     "name": "stdout",
     "output_type": "stream",
     "text": [
      "Phase Angle: 71.34752706555602 Degrees\n"
     ]
    }
   ],
   "source": [
    "vca=353.552E-3\n",
    "vbc=113.069E-3\n",
    "vba=334.982E-3\n",
    "ang=(vca**2+vbc**2-vba**2)/(2*vca*vbc)\n",
    "angle_meters=acosd(ang)\n",
    "print(\"Phase Angle:\",angle_meters,\"Degrees\")"
   ]
  },
  {
   "cell_type": "markdown",
   "metadata": {},
   "source": [
    "This matches our calculation nearly perfectly. The error between calculated and measured is:"
   ]
  },
  {
   "cell_type": "code",
   "execution_count": 9,
   "metadata": {},
   "outputs": [
    {
     "name": "stdout",
     "output_type": "stream",
     "text": [
      "Err is: 0.07720725729239945 %\n"
     ]
    }
   ],
   "source": [
    "ang_meas=71.34752706555602\n",
    "ang_calc=71.29248409393148\n",
    "err=(abs(ang_calc-ang_meas)/ang_calc)*100.0\n",
    "print(\"Err is:\",err,\"%\")"
   ]
  },
  {
   "cell_type": "markdown",
   "metadata": {},
   "source": [
    "Which is pretty good. <strong>But this has a limitation!</strong>  <code>NB! NB! NB!</code>  Most digital multimeters have a bandwidth limitation.  You cannot use this technique much above 3kHz-5kHz using actual hardware. I am not certain if the software multimeters used in Multisim have this characteristic. "
   ]
  }
 ],
 "metadata": {
  "kernelspec": {
   "display_name": "Python 3",
   "language": "python",
   "name": "python3"
  },
  "language_info": {
   "codemirror_mode": {
    "name": "ipython",
    "version": 3
   },
   "file_extension": ".py",
   "mimetype": "text/x-python",
   "name": "python",
   "nbconvert_exporter": "python",
   "pygments_lexer": "ipython3",
   "version": "3.7.4"
  }
 },
 "nbformat": 4,
 "nbformat_minor": 4
}
